{
 "cells": [
  {
   "cell_type": "raw",
   "metadata": {},
   "source": [
    "---\n",
    "title: Insert Title Name here\n",
    "date: 2021-06-10 00:00:00\n",
    "description: This is a demo post that shows what you can do inside portfolio and blog posts. We’ve included everything you need to create engaging posts and case studies to show off your work in a beautiful way.\n",
    "featured_image: '/images/demo.jpg'\n",
    "---\n",
    "{% comment %}\n",
    "    {% raw %}"
   ]
  },
  {
   "cell_type": "code",
   "execution_count": 12,
   "metadata": {},
   "outputs": [],
   "source": [
    "PROJECT_LINK = 'template'\n",
    "\n",
    "url = 'https://zato.dev/blog/' + PROJECT_LINK\n",
    "\n",
    "# FRAMEWORK\n",
    "\n",
    "from IPython.display import Markdown as md\n",
    "import plotly.io as pio\n",
    "import datetime, pytz\n",
    "\n",
    "pio.renderers.default = 'colab'\n",
    "\n",
    "def getVariableNames(variable):\n",
    "    results = []\n",
    "    globalVariables=globals().copy()\n",
    "    for globalVariable in globalVariables:\n",
    "        if id(variable) == id(globalVariables[globalVariable]):\n",
    "            results.append(globalVariable)\n",
    "    return results\n",
    "\n",
    "def displayPlot(fig):\n",
    "    project_id = PROJECT_LINK.replace(' ','_')\n",
    "    fig_json = fig.to_json()\n",
    "    fig_name = str(datetime.datetime.now(tz=pytz.timezone('Asia/Bangkok')).date())+'-'+project_id+'_'+getVariableNames(fig)[0]\n",
    "    filename = fig_name+'.html'\n",
    "    template = \"\"\"\n",
    "<html>\n",
    "    <head>\n",
    "        <script src=\"https://cdn.plot.ly/plotly-latest.min.js\"></script>\n",
    "    </head>\n",
    "    <body>\n",
    "        <div id='{1}'></div>\n",
    "        <script>\n",
    "            var plotly_data = {0};\n",
    "            let config = {{displayModeBar: false }};\n",
    "            Plotly.react('{1}', plotly_data.data, plotly_data.layout, config);\n",
    "        </script>\n",
    "    </body>\n",
    "</html>\n",
    "\"\"\"\n",
    "    # write the JSON to the HTML template\n",
    "    with open(filename, 'w') as f:\n",
    "        f.write(template.format(fig_json, fig_name))\n",
    "    return md(\"{% include post-components/\" + filename + \" full_width=true %}\")\n",
    "\n",
    "\n",
    "from selenium import webdriver\n",
    "from selenium.webdriver.support.ui import WebDriverWait\n",
    "from selenium.webdriver.support import expected_conditions as EC\n",
    "from selenium.webdriver.common.by import By\n",
    "from webdriver_manager.chrome import ChromeDriverManager\n",
    "\n",
    "def runBrowser(url):\n",
    "    chrome_options = webdriver.ChromeOptions()\n",
    "    chrome_options.add_argument(\"window-size=375,812\")\n",
    "    # browser = webdriver.Chrome('/Users/touchpadthamkul/PySelenium/chromedriver', chrome_options=chrome_options)\n",
    "    browser = webdriver.Chrome(ChromeDriverManager().install(),chrome_options=chrome_options)\n",
    "    browser.get(url)\n",
    "\n",
    "    \n",
    "import ipynbname\n",
    "\n",
    "def saveExport():\n",
    "    pynb_name = ipynbname.name() +'.ipynb'\n",
    "    md_name = ipynbname.name() +'.md'\n",
    "    master_name = str(datetime.datetime.now(tz=pytz.timezone('Asia/Bangkok')).date()) + '-' + PROJECT_LINK + '.md'\n",
    "    !jupyter nbconvert --to markdown $pynb_name\n",
    "    !mv $md_name $master_name\n",
    "\n",
    "# saveExport()\n",
    "# runBrowser(url)"
   ]
  },
  {
   "cell_type": "raw",
   "metadata": {},
   "source": [
    "    {% endraw %}\n",
    "{% endcomment %}"
   ]
  }
 ],
 "metadata": {
  "kernelspec": {
   "display_name": "Python 3",
   "language": "python",
   "name": "python3"
  },
  "language_info": {
   "codemirror_mode": {
    "name": "ipython",
    "version": 3
   },
   "file_extension": ".py",
   "mimetype": "text/x-python",
   "name": "python",
   "nbconvert_exporter": "python",
   "pygments_lexer": "ipython3",
   "version": "3.8.3"
  }
 },
 "nbformat": 4,
 "nbformat_minor": 4
}
